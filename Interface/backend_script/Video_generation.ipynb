{
  "cells": [
    {
      "cell_type": "markdown",
      "metadata": {
        "id": "vjynPPFCYYMg"
      },
      "source": [
        "## Setup Environment"
      ]
    },
    {
      "cell_type": "code",
      "execution_count": null,
      "metadata": {
        "id": "JhdOnbTNSnj7"
      },
      "outputs": [],
      "source": [
        "import torch"
      ]
    },
    {
      "cell_type": "markdown",
      "metadata": {
        "id": "8Ux56aUnSyzd"
      },
      "source": [
        "### install packages"
      ]
    },
    {
      "cell_type": "code",
      "execution_count": null,
      "metadata": {
        "collapsed": true,
        "id": "auE5eVqCSnBx"
      },
      "outputs": [],
      "source": [
        "# about 0.5~1min\n",
        "!pip install tensorrt==8.6.1 librosa tqdm filetype imageio opencv_python_headless scikit-image cython cuda-python imageio-ffmpeg colored polygraphy numpy==2.0.1"
      ]
    },
    {
      "cell_type": "code",
      "execution_count": null,
      "metadata": {
        "collapsed": true,
        "id": "fEQpNZHAN92P"
      },
      "outputs": [],
      "source": [
        "!pip install flask-ngrok\n",
        "!pip install pyngrok"
      ]
    },
    {
      "cell_type": "code",
      "execution_count": null,
      "metadata": {
        "collapsed": true,
        "id": "6iPwAD8aOAUS"
      },
      "outputs": [],
      "source": [
        "!apt update\n",
        "!apt install ffmpeg -y"
      ]
    },
    {
      "cell_type": "code",
      "execution_count": null,
      "metadata": {
        "collapsed": true,
        "id": "r8IofnIB4Tgj"
      },
      "outputs": [],
      "source": [
        "!apt install -y libcudnn8"
      ]
    },
    {
      "cell_type": "markdown",
      "metadata": {
        "id": "c-hcMYRsTexu"
      },
      "source": [
        "### restart runtime"
      ]
    },
    {
      "cell_type": "code",
      "execution_count": null,
      "metadata": {
        "id": "CnU-NrlsS8LQ"
      },
      "outputs": [],
      "source": [
        "# !!!\n",
        "# You need to restart the runtime to ensure that the newly installed environment takes effect\n",
        "import os\n",
        "os.kill(os.getpid(), 9)"
      ]
    },
    {
      "cell_type": "markdown",
      "metadata": {
        "id": "gBTPG7bRT0sM"
      },
      "source": [
        "### Environment Check"
      ]
    },
    {
      "cell_type": "code",
      "execution_count": null,
      "metadata": {
        "collapsed": true,
        "id": "BX9cqefNTzy1"
      },
      "outputs": [],
      "source": [
        "import numpy as np\n",
        "import torch\n",
        "import tensorrt as trt\n",
        "print(np.__version__)\n",
        "print(torch.__version__)                            #Ensuring all the packages are downloaded and imported\n",
        "print(trt.__version__)"
      ]
    },
    {
      "cell_type": "markdown",
      "metadata": {
        "id": "uavpfUqbYqdq"
      },
      "source": [
        "## Downloading Models"
      ]
    },
    {
      "cell_type": "code",
      "execution_count": null,
      "metadata": {
        "collapsed": true,
        "id": "Gfs0_VEyJm4u"
      },
      "outputs": [],
      "source": [
        "import os\n",
        "%cd /content\n",
        "if not os.path.isdir(\"ditto-talkinghead\"):\n",
        "    !git clone https://github.com/antgroup/ditto-talkinghead.git\n",
        "else:\n",
        "    print(\"ditto-talkinghead already cloned.\")\n",
        "\n",
        "%cd ditto-talkinghead\n",
        "!git pull\n",
        "!ls"
      ]
    },
    {
      "cell_type": "code",
      "execution_count": null,
      "metadata": {
        "collapsed": true,
        "id": "Gf54LtAfQ890"
      },
      "outputs": [],
      "source": [
        "# about 1~2min\n",
        "!git lfs install\n",
        "if not os.path.isdir(\"checkpoints\"):\n",
        "    !git clone https://huggingface.co/digital-avatar/ditto-talkinghead checkpoints\n",
        "\n",
        "%cd checkpoints\n",
        "!git pull\n",
        "!ls\n",
        "\n",
        "%cd ..\n",
        "!ls"
      ]
    },
    {
      "cell_type": "markdown",
      "metadata": {
        "id": "FTuJfoveUmsF"
      },
      "source": [
        "### check GPU architecture"
      ]
    },
    {
      "cell_type": "code",
      "execution_count": null,
      "metadata": {
        "collapsed": true,
        "id": "_OB8Hcg6xXyZ"
      },
      "outputs": [],
      "source": [
        "# about 1~2min\n",
        "import os\n",
        "import torch\n",
        "\n",
        "def cvt_custom_trt():\n",
        "    from scripts.cvt_onnx_to_trt import main as cvt_trt\n",
        "    onnx_dir = \"./checkpoints/ditto_onnx\"\n",
        "    trt_dir = \"./checkpoints/ditto_trt_custom\"\n",
        "    assert os.path.isdir(onnx_dir)\n",
        "    os.makedirs(trt_dir, exist_ok=True)\n",
        "    grid_sample_plugin_file = os.path.join(onnx_dir, \"libgrid_sample_3d_plugin.so\")\n",
        "    cvt_trt(onnx_dir, trt_dir, grid_sample_plugin_file)\n",
        "    return trt_dir\n",
        "\n",
        "\n",
        "def download_Non_Ampere_trt():\n",
        "    !pip install --upgrade --no-cache-dir gdown\n",
        "    !gdown https://drive.google.com/drive/folders/1-1qnqy0D9ICgRh8iNY_22j9ieNRC0-zf?usp=sharing -O ./checkpoints/ditto_trt --folder\n",
        "    trt_dir = \"./checkpoints/ditto_trt\"\n",
        "    return trt_dir\n",
        "\n",
        "\n",
        "if torch.cuda.get_device_capability()[0] < 8:\n",
        "    # data_root = cvt_custom_trt()    # cvt\n",
        "    # The conversion is slow, so you can download pre-converted files.\n",
        "    data_root = download_Non_Ampere_trt()\n",
        "else:\n",
        "    data_root = \"./checkpoints/ditto_trt_Ampere_Plus\""
      ]
    },
    {
      "cell_type": "markdown",
      "metadata": {
        "id": "wFNuRUa3Y1gu"
      },
      "source": [
        "## Inference"
      ]
    },
    {
      "cell_type": "code",
      "execution_count": null,
      "metadata": {
        "collapsed": true,
        "id": "e2XiC3zjWv54"
      },
      "outputs": [],
      "source": [
        "from stream_pipeline_offline.py import StreamSDK\n",
        "from inference import run\n",
        "# data_root = \"./checkpoints/ditto_trt_custom\"   # model dir\n",
        "cfg_pkl = \"./checkpoints/ditto_cfg/v0.4_hubert_cfg_trt.pkl\"     # cfg pkl\n",
        "print(data_root)\n",
        "print(cfg_pkl)\n",
        "SDK = StreamSDK(cfg_pkl, data_root)"
      ]
    },
    {
      "cell_type": "markdown",
      "metadata": {},
      "source": [
        "### Ngrok Tunelling to connect to Frontend"
      ]
    },
    {
      "cell_type": "code",
      "execution_count": null,
      "metadata": {
        "collapsed": true,
        "id": "bC6xldGYZXHI"
      },
      "outputs": [],
      "source": [
        "from flask import Flask, request, send_file\n",
        "from pyngrok import ngrok\n",
        "import os\n",
        "import numpy as np\n",
        "import librosa\n",
        "\n",
        "# NGROK SETUP\n",
        "ngrok.set_auth_token('')                                #Enter you Ngrok Auth Token\n",
        "app = Flask(__name__)\n",
        "public_url = ngrok.connect(5000)\n",
        "print(f\"🔗 Public URL: {public_url}\")\n",
        "\n",
        "def get_seq_len_from_audio(audio_path, fps=25, target_sr=16000):\n",
        "    audio, sr = librosa.load(audio_path, sr=target_sr)\n",
        "    duration_sec = len(audio) / sr\n",
        "    seq_len = int(duration_sec * fps)\n",
        "    return seq_len\n",
        "\n",
        "@app.route('/generate', methods=['POST'])\n",
        "def generate():\n",
        "    image = request.files.get('image')\n",
        "    audio = request.files.get('audio')\n",
        "    emotion_index = request.form.get('emotion')\n",
        "\n",
        "    if not image or not audio or emotion_index is None:\n",
        "        return \"Missing image, audio, or emotion\", 400\n",
        "\n",
        "    try:\n",
        "        emotion_index = int(emotion_index)\n",
        "        if not (0 <= emotion_index <= 7):\n",
        "            return \"Emotion index must be between 0 and 7\", 400\n",
        "    except ValueError:\n",
        "        return \"Emotion index must be an integer\", 400\n",
        "\n",
        "    image_path = \"/content/image.png\"\n",
        "    audio_path = \"/content/audio.wav\"\n",
        "    output_path = \"/content/result.mp4\"\n",
        "    image.save(image_path)\n",
        "    audio.save(audio_path)\n",
        "\n",
        "    try:\n",
        "        # 1. Get seq_len\n",
        "        seq_len = get_seq_len_from_audio(audio_path)                        #Dynamically getting number of frames, based on audio input\n",
        "\n",
        "        # 2. Create emotion array\n",
        "        emo_arr = np.zeros((seq_len, 8), dtype=np.float32)                  \n",
        "        emo_arr[:, emotion_index] = 1.0\n",
        "\n",
        "        # 3. Prepare kwargs\n",
        "        setup_kwargs = {\"emo\": emo_arr}\n",
        "        more_kwargs = {\n",
        "            \"setup_kwargs\": setup_kwargs,\n",
        "            \"run_kwargs\": {}\n",
        "        }\n",
        "\n",
        "        # 4. Run model\n",
        "        SDK = StreamSDK(cfg_pkl, data_root)\n",
        "        run(SDK, audio_path, image_path, output_path, more_kwargs=more_kwargs)\n",
        "        del SDK                                     #Freeing Up VRAM\n",
        "\n",
        "    except Exception as e:\n",
        "        return f\"Inference failed: {e}\", 500\n",
        "\n",
        "    if not os.path.exists(output_path):\n",
        "        return \"Video not found\", 500\n",
        "\n",
        "    return send_file(output_path, mimetype=\"video/mp4\", as_attachment=True)\n",
        "\n",
        "app.run(port=5000)"
      ]
    }
  ],
  "metadata": {
    "accelerator": "GPU",
    "colab": {
      "gpuType": "T4",
      "provenance": []
    },
    "kernelspec": {
      "display_name": "Python 3",
      "name": "python3"
    },
    "language_info": {
      "name": "python"
    }
  },
  "nbformat": 4,
  "nbformat_minor": 0
}
